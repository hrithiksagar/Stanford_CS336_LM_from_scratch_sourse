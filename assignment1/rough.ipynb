{
 "cells": [
  {
   "cell_type": "code",
   "execution_count": null,
   "metadata": {},
   "outputs": [],
   "source": [
    "# chr(0)\n",
    "# print(chr(0))\n",
    "# # \"this is a test\" + chr(0) + \"string\"\n",
    "# print(\"this is a test\" + chr(0) + \"string\")\n",
    "\n",
    "# # Output: this is a teststring"
   ]
  },
  {
   "cell_type": "code",
   "execution_count": 5,
   "metadata": {},
   "outputs": [
    {
     "name": "stdout",
     "output_type": "stream",
     "text": [
      "b'Hello! How are you? \\xe0\\xb0\\x8f\\xe0\\xb0\\x82 \\xe0\\xb0\\x9a\\xe0\\xb1\\x87\\xe0\\xb0\\xb8\\xe0\\xb1\\x8d\\xe0\\xb0\\xa4\\xe0\\xb1\\x81\\xe0\\xb0\\xa8\\xe0\\xb1\\x8d\\xe0\\xb0\\xa8\\xe0\\xb0\\xbe\\xe0\\xb0\\xb5\\xe0\\xb1\\x8d?'\n",
      "<class 'bytes'>\n",
      "36\n",
      "64\n",
      "Hello! How are you? ఏం చేస్తున్నావ్?\n"
     ]
    }
   ],
   "source": [
    "# UTF 8 Encode-Decode\n",
    "test_string = \"Hello! How are you? ఏం చేస్తున్నావ్?\"\n",
    "utf8_encode = test_string.encode(\"utf-8\")\n",
    "print(utf8_encode)\n",
    "print(type(utf8_encode))\n",
    "list(utf8_encode) # Get the byte values for the encoded string (integers from 0 to 255).\n",
    "# One byte does not necessarily correspond to one Unicode character!\n",
    "print(len(test_string))\n",
    "print(len(utf8_encode))\n",
    "print(utf8_encode.decode((\"utf-8\")))"
   ]
  },
  {
   "cell_type": "code",
   "execution_count": null,
   "metadata": {},
   "outputs": [],
   "source": []
  }
 ],
 "metadata": {
  "kernelspec": {
   "display_name": "Python 3",
   "language": "python",
   "name": "python3"
  },
  "language_info": {
   "codemirror_mode": {
    "name": "ipython",
    "version": 3
   },
   "file_extension": ".py",
   "mimetype": "text/x-python",
   "name": "python",
   "nbconvert_exporter": "python",
   "pygments_lexer": "ipython3",
   "version": "3.12.8"
  }
 },
 "nbformat": 4,
 "nbformat_minor": 2
}
